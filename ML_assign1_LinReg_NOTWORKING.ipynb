{
  "nbformat": 4,
  "nbformat_minor": 0,
  "metadata": {
    "colab": {
      "name": "ML_assign1_LinReg.ipynb",
      "provenance": [],
      "collapsed_sections": []
    },
    "kernelspec": {
      "name": "python3",
      "display_name": "Python 3"
    }
  },
  "cells": [
    {
      "cell_type": "code",
      "metadata": {
        "id": "4xmaZgnfYuo_",
        "outputId": "df79052c-a34c-4565-e2e8-74f610e5b432",
        "colab": {
          "base_uri": "https://localhost:8080/",
          "height": 34
        }
      },
      "source": [
        "# imports\n",
        "\n",
        "import numpy as np\n",
        "import pandas as pd\n",
        "import matplotlib.pyplot as plt\n",
        "\n",
        "\n",
        "from datetime import datetime as dt\n",
        "print(dt.now())\n",
        "\n",
        "# https://github.com/sastaffo/CSU44061/blob/master/linearRegression/linreg.py\n",
        "\n",
        "# https://www.scss.tcd.ie/Doug.Leith/CSU44061/week1.php\n",
        "# id:9--4517.1-9 "
      ],
      "execution_count": 1,
      "outputs": [
        {
          "output_type": "stream",
          "text": [
            "2020-10-11 15:03:54.078103\n"
          ],
          "name": "stdout"
        }
      ]
    },
    {
      "cell_type": "code",
      "metadata": {
        "id": "u1-4f6y4Zgvh",
        "outputId": "899c9573-e68d-4e76-9139-17bfec7decaa",
        "colab": {
          "base_uri": "https://localhost:8080/",
          "height": 52
        }
      },
      "source": [
        "def readEntries(file_location):\n",
        "  # reading in data (and checking first few entries)\n",
        "  df = pd.read_csv (file_location, comment=\"#\")\n",
        "  #print(df.head())\n",
        "\n",
        "  X = np.array( df.iloc[:,0]).reshape(-1,1)\n",
        "  #print(X[0:5])\n",
        "  y = np.array( df.iloc[:,1]).reshape(-1,1)\n",
        "  #print(y[0:5])\n",
        "  return (X,y)\n",
        "#end readEntries()\n",
        "\n",
        "\n",
        "print(\"def readEntries(file_location)\\n\", dt.now())\n",
        "# this is for some reason, leaving out the 1st row on the table [0, -509.8...]"
      ],
      "execution_count": 2,
      "outputs": [
        {
          "output_type": "stream",
          "text": [
            "def readEntries(file_location)\n",
            " 2020-10-11 15:03:57.150639\n"
          ],
          "name": "stdout"
        }
      ]
    },
    {
      "cell_type": "code",
      "metadata": {
        "id": "3A_bwcGJc4b5",
        "outputId": "873b4332-a033-4bbf-8889-62fd2a2191f1",
        "colab": {
          "base_uri": "https://localhost:8080/",
          "height": 105
        }
      },
      "source": [
        "def plotXY(X, y, xlabel, ylabel, legend):\n",
        "  # takes in X and y and plots them\n",
        "  plt.rc(\"font\", size=18)\n",
        "  plt.rcParams[\"figure.constrained_layout.use\"] = True\n",
        "  plt.scatter(X, y, color=\"black\", linewidth=0.5)\n",
        "  plt.xlabel(xlabel)\n",
        "  plt.ylabel(ylabel)\n",
        "  plt.legend(legend)\n",
        "  plt.show()\n",
        "#end plotXY()\n",
        "\n",
        "\n",
        "print(\"def plotXY(X,y)\\n\", dt.now())\n",
        "\n",
        "def plotXYLine(X, y, ypred, xlabel, ylabel, legend):\n",
        "  plt.rc(\"font\", size=18)\n",
        "  plt.rcParams[\"figure.constrained_layout.use\"] = True\n",
        "  plt.scatter(X, y, color=\"black\", linewidth=0.5)\n",
        "  plt.plot(X, ypred, color=\"blue\", linewidth=1)\n",
        "  plt.xlabel(xlabel)\n",
        "  plt.ylabel(ylabel)\n",
        "  plt.legend(legend)\n",
        "  plt.show()\n",
        "#end plotXYLine\n",
        "\n",
        "print(\"\\ndef plotXYLine(X,y,ypred,xlabel,ylabel,legend)\\n\", dt.now())"
      ],
      "execution_count": 3,
      "outputs": [
        {
          "output_type": "stream",
          "text": [
            "def plotXY(X,y)\n",
            " 2020-10-11 15:04:02.923408\n",
            "\n",
            "def plotXYLine(X,y,ypred,xlabel,ylabel,legend)\n",
            " 2020-10-11 15:04:02.923651\n"
          ],
          "name": "stdout"
        }
      ]
    },
    {
      "cell_type": "code",
      "metadata": {
        "id": "1Ck16JvAeahJ",
        "outputId": "32a43b30-dd4d-48cd-ef55-108b86b336cd",
        "colab": {
          "base_uri": "https://localhost:8080/",
          "height": 52
        }
      },
      "source": [
        "def normaliseData(X):\n",
        "  # rescale data to lie between 0 and 1\n",
        "  maxX = X.max(axis=0)\n",
        "  minX = X.min(axis=0)\n",
        "  #print(\"max=\", maxX, \"\\nmin=\",minX)\n",
        "  normX = (X - minX)/(maxX - minX)\n",
        "  #print(\"new max=\", normX.max(axis=0), \"new min=\", normX.min(axis=0))\n",
        "  #print(X[0:5])\n",
        "  #print(normX[0:5])\n",
        "  return (normX)\n",
        "# end normaliseData()\n",
        "\n",
        "\n",
        "print(\"def normaliseData(X)\\n\", dt.now())"
      ],
      "execution_count": 4,
      "outputs": [
        {
          "output_type": "stream",
          "text": [
            "def normaliseData(X)\n",
            " 2020-10-11 15:04:05.437089\n"
          ],
          "name": "stdout"
        }
      ]
    },
    {
      "cell_type": "code",
      "metadata": {
        "id": "GPxqLzzSmVry",
        "outputId": "9d9b6b77-1eec-48b7-f297-5e07202738df",
        "colab": {
          "base_uri": "https://localhost:8080/",
          "height": 228
        }
      },
      "source": [
        "def predict(X, theta):\n",
        "  # takes m by n matrix X as input and returns an m by 1 vector containing the\n",
        "  # predictions h_theta(x^i) for each row x^i, i=1,...,m in X\n",
        "  t=len(theta)\n",
        "  if len(X.shape) is 1: # ie if there is only 1 data point input\n",
        "    pred = X[0]*theta[0]\n",
        "    for i in range(1,t) :\n",
        "      pred = pred + X[i]*theta[i]\n",
        "    # end for\n",
        "  else: # ie if there are multiple data points in X array\n",
        "    pred = X[:,0]*theta[0] + (X[:,1]*theta[1])\n",
        "  return pred\n",
        "# end predict\n",
        "\n",
        "\n",
        "print(\"def predict(X, theta)\\n\", dt.now())\n",
        "\n",
        "\n",
        "def computeCost(X,y,theta):\n",
        "  # calculates the cost of J(theta) and returns cost\n",
        "  pred = predict(X,theta)\n",
        "  sqdiff = (pred-y)**2\n",
        "  cost = (sqdiff.sum())/(2*len(y))\n",
        "  return cost\n",
        "#end computeCost()\n",
        "\n",
        "\n",
        "print(\"\\ndef computeCost(X, y, theta)\\n\", dt.now())\n",
        "\n",
        "\n",
        "\n",
        "\n",
        "print(\"def computeGradient(X, y, theta)\")\n",
        "def computeGradient(X, y, theta):\n",
        "  # function calulate the gradient of J(theta) and returns its value\n",
        "  grad = np.zeros(2)\n",
        "  costpred = predict (X,theta)\n",
        "  costbase = costpred - y\n",
        "  costprodb0 = costbase #  X[:,0] is all ones so don't multiply\n",
        "  costprodb1 = costbase * X[:,1]\n",
        "  costprodb0sum = costprodb0.sum()\n",
        "  costprodb1sum = costprodb1.sum()\n",
        "  grad[0] = costprodb0sum / len(y)\n",
        "  grad[1] = costprodb1sum / len(y)\n",
        "\n",
        "  return grad\n",
        "# end def computeGradient\n",
        "\n",
        "\n",
        "\n",
        "\n",
        "def computeGradient(X, y, theta):\n",
        "  # function calulate the gradient of J(theta) and returns its value\n",
        "  # for X with 1 feature\n",
        "  grad = np.zeros(2)\n",
        "  # print(\"pre-prediction X[:10]=\",X[:10], \"\\ntheta=\",theta)\n",
        "  pred = predict(X, theta)\n",
        "  # print(\"pred=\",pred)\n",
        "  diff = pred - y\n",
        "  prod = diff * X[:,1]\n",
        "  grad[0] = diff.sum() / len(y)\n",
        "  grad[1] = prod.sum() / len(y)\n",
        "  # print(\"grad=\",grad)\n",
        "  return grad\n",
        "# end computeGradient\n",
        "\n",
        "\n",
        "print(\"\\ndef computeGrad(X, y, theta)\\n\", dt.now())\n",
        "\n",
        "def gradientDescent(X, y, alpha, iters):\n",
        "  # iteratively update parameter vector theta\n",
        "  cost = np.zeros(iters)\n",
        "  (_,n) = X.shape\n",
        "  theta= np.zeros(n)\n",
        "  print(\"theta on init=\",theta)\n",
        "  for i in range(iters):\n",
        "    theta = theta - alpha * computeGradient(X,y,theta)\n",
        "    # print(\"theta [i=\",i,\"]=\",theta)\n",
        "    cost[i] = computeCost(X, y, theta)\n",
        "  #end for\n",
        "  return theta, cost\n",
        "#end gradientDescent(X, y, numparams, alpha, iters)\n",
        "\n",
        "\n",
        "print(\"\\ndef gradientDescent(X, y, alpha, iters)\\n\", dt.now())"
      ],
      "execution_count": 70,
      "outputs": [
        {
          "output_type": "stream",
          "text": [
            "def predict(X, theta)\n",
            " 2020-10-11 18:47:48.369728\n",
            "\n",
            "def computeCost(X, y, theta)\n",
            " 2020-10-11 18:47:48.369986\n",
            "def computeGradient(X, y, theta)\n",
            "\n",
            "def computeGrad(X, y, theta)\n",
            " 2020-10-11 18:47:48.370427\n",
            "\n",
            "def gradientDescent(X, y, alpha, iters)\n",
            " 2020-10-11 18:47:48.370633\n"
          ],
          "name": "stdout"
        }
      ]
    },
    {
      "cell_type": "code",
      "metadata": {
        "id": "u0T18e0Qu7Tp",
        "outputId": "73af1891-a1df-4eee-c986-90ab71eccb41",
        "colab": {
          "base_uri": "https://localhost:8080/",
          "height": 122
        }
      },
      "source": [
        "def h_theta(X, theta):\n",
        "  print(\"theta=\",theta)\n",
        "  print(\"X[:10]=\\n\", X[:10])\n",
        "  (_,n) = X.shape\n",
        "  t = len(theta)\n",
        "  if (t is n+1):\n",
        "    theta_np = np.array(theta[1:(t)])\n",
        "    theta0 = theta[0]\n",
        "  elif (t is n):\n",
        "    theta_np = np.array(theta[0:(t)])\n",
        "    theta0 = 0\n",
        "  #end if\n",
        "  print(\"theta0=  \", theta0)\n",
        "  print(\"theta_np=\", theta_np)\n",
        "\n",
        "  # h_theta_x = theta[0] + theta[1]*X[1] + ...\n",
        "  h_theta_x = np.multiply(theta_np, X) # multiples all theta[i]*X[i], excluding theta[0] for now\n",
        "  print(\"\\nh_theta_x[:10]=\\n\", h_theta_x[:10])\n",
        "\n",
        "  h_theta_x = np.add(h_theta_x, theta0) # sums up all theta[i]*X[i], adding theta[0]\n",
        "  print(\"\\nh_theta_x[:10]=\\n\", h_theta_x[:10])\n",
        "  return h_theta_x\n",
        "#end h_theta\n",
        "\n",
        "print(\"\\ndef h_theta(X, theta)\\n\", dt.now())\n",
        "\n",
        "\n",
        "def linearRegressionTrain(X, y, theta):\n",
        "  # returns predictions for X given theta and j_theta [(sum of sq diffs)/2*m]\n",
        "  (m,_) = X.shape\n",
        "  ypred = h_theta(X,theta)\n",
        "  diff = np.subtract(ypred, y)\n",
        "  sumsqdiff = np.sum(np.multiply(diff, diff))\n",
        "  j_theta = sumsqdiff/(2*m)\n",
        "  return (ypred,j_theta)\n",
        "\n",
        "print(\"\\ndef linearRegressionTrain(X, y, theta)\\n\", dt.now())"
      ],
      "execution_count": 55,
      "outputs": [
        {
          "output_type": "stream",
          "text": [
            "\n",
            "def h_theta(X, theta)\n",
            " 2020-10-11 18:41:41.019618\n",
            "\n",
            "def linearRegressionTrain(X, y, theta)\n",
            " 2020-10-11 18:41:41.019916\n"
          ],
          "name": "stdout"
        }
      ]
    },
    {
      "cell_type": "code",
      "metadata": {
        "id": "_K-VB5MqhdYZ",
        "outputId": "28e8f1f3-4d62-4750-f604-45a45846fa9b",
        "colab": {
          "base_uri": "https://localhost:8080/",
          "height": 1000
        }
      },
      "source": [
        "def main():\n",
        "  (X,y) = readEntries(\"/content/ML_week1.csv\")\n",
        "  plotXY(X, y, \"input X\", \"output y\", [\"training data\"])\n",
        "\n",
        "  normX = normaliseData(X)\n",
        "  (m,n) = X.shape\n",
        "  newX = np.ones((m,n+1))\n",
        "  newX[:,1] = normX[:,0]\n",
        "  print(\"newX[:10]\\n\", newX[:10])\n",
        "\n",
        "  \n",
        "  normY = normaliseData(y)\n",
        "  plotXY(newX[:,1], normY, \"input X (normalised)\", \"output y (normalised)\", [\"training data\"])\n",
        "\n",
        "  iters = 5\n",
        "  (theta, cost) = gradientDescent(newX, normY, 0.5, iters)\n",
        "  itersX = np.arange(0,iters)\n",
        "  #plotXY(itersX, cost, \"iteration#\", \"cost\", [\"cost per iteration\"])\n",
        "\n",
        "  print(\"theta.shape=\", theta.shape)\n",
        "  print(\"theta=\", theta)\n",
        "  print(\"normX.shape=\", normX.shape)\n",
        "  (predY, j_theta) = linearRegression(normX,normY,theta)\n",
        "  print(\"predY.shape=\", predY.shape)\n",
        "  print(\"predY[:10]=\\n\",  predY[:10])\n",
        "\n",
        "  \n",
        "  #plotXYLine(normX[:,1], normY, predY, \"input X\", \"output y\", [\"predictions\",\"training data\"])\n",
        "\n",
        "  plt.rc(\"font\", size=18)\n",
        "  plt.rcParams[\"figure.constrained_layout.use\"] = True\n",
        "  plt.scatter(newX[:,1], normY, color=\"black\", linewidth=0.5)\n",
        "  plt.plot(newX[:,1], predY[:,0], color=\"blue\", linewidth=1)\n",
        "  plt.xlabel(\"input X\")\n",
        "  plt.ylabel(\"output Y\")\n",
        "  plt.legend([\"predictions\",\"training data\"])\n",
        "  plt.show()\n",
        "\n",
        "\n",
        "# end main\n",
        "\n",
        "\n",
        "if __name__ == '__main__':\n",
        "  main()"
      ],
      "execution_count": 71,
      "outputs": [
        {
          "output_type": "display_data",
          "data": {
            "image/png": "[encoded data removed]",
            "text/plain": [
              "<Figure size 432x288 with 1 Axes>"
            ]
          },
          "metadata": {
            "tags": [],
            "needs_background": "light"
          }
        },
        {
          "output_type": "stream",
          "text": [
            "newX[:10]\n",
            " [[1.         0.        ]\n",
            " [1.         0.00139665]\n",
            " [1.         0.0027933 ]\n",
            " [1.         0.00418994]\n",
            " [1.         0.00558659]\n",
            " [1.         0.00698324]\n",
            " [1.         0.00837989]\n",
            " [1.         0.00977654]\n",
            " [1.         0.01117318]\n",
            " [1.         0.01256983]]\n"
          ],
          "name": "stdout"
        },
        {
          "output_type": "display_data",
          "data": {
            "image/png": "[encoded data removed]",
            "text/plain": [
              "<Figure size 432x288 with 1 Axes>"
            ]
          },
          "metadata": {
            "tags": [],
            "needs_background": "light"
          }
        },
        {
          "output_type": "stream",
          "text": [
            "theta on init= [0. 0.]\n",
            "theta.shape= (2,)\n",
            "theta= [6.97803451e+12 3.73525266e+12]\n",
            "normX.shape= (717, 1)\n",
            "theta= [6.97803451e+12 3.73525266e+12]\n",
            "X[:10]=\n",
            " [[0.        ]\n",
            " [0.00139665]\n",
            " [0.0027933 ]\n",
            " [0.00418994]\n",
            " [0.00558659]\n",
            " [0.00698324]\n",
            " [0.00837989]\n",
            " [0.00977654]\n",
            " [0.01117318]\n",
            " [0.01256983]]\n",
            "theta0=   6978034508509.542\n",
            "theta_np= [3.73525266e+12]\n",
            "\n",
            "h_theta_x[:10]=\n",
            " [[0.00000000e+00]\n",
            " [5.21683332e+09]\n",
            " [1.04336666e+10]\n",
            " [1.56505000e+10]\n",
            " [2.08673333e+10]\n",
            " [2.60841666e+10]\n",
            " [3.13009999e+10]\n",
            " [3.65178333e+10]\n",
            " [4.17346666e+10]\n",
            " [4.69514999e+10]]\n",
            "\n",
            "h_theta_x[:10]=\n",
            " [[6.97803451e+12]\n",
            " [6.98325134e+12]\n",
            " [6.98846818e+12]\n",
            " [6.99368501e+12]\n",
            " [6.99890184e+12]\n",
            " [7.00411868e+12]\n",
            " [7.00933551e+12]\n",
            " [7.01455234e+12]\n",
            " [7.01976918e+12]\n",
            " [7.02498601e+12]]\n",
            "predY.shape= (717, 1)\n",
            "predY[:10]=\n",
            " [[6.97803451e+12]\n",
            " [6.98325134e+12]\n",
            " [6.98846818e+12]\n",
            " [6.99368501e+12]\n",
            " [6.99890184e+12]\n",
            " [7.00411868e+12]\n",
            " [7.00933551e+12]\n",
            " [7.01455234e+12]\n",
            " [7.01976918e+12]\n",
            " [7.02498601e+12]]\n"
          ],
          "name": "stdout"
        },
        {
          "output_type": "display_data",
          "data": {
            "image/png": "[encoded data removed]",
            "text/plain": [
              "<Figure size 432x288 with 1 Axes>"
            ]
          },
          "metadata": {
            "tags": [],
            "needs_background": "light"
          }
        }
      ]
    }
  ]
}